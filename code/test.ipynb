{
 "cells": [
  {
   "cell_type": "code",
   "execution_count": 1,
   "metadata": {},
   "outputs": [],
   "source": [
    "import json\n",
    "import collections\n",
    "import argparse\n",
    "import random\n",
    "import numpy as np\n",
    "\n",
    "from util import *"
   ]
  },
  {
   "cell_type": "code",
   "execution_count": 2,
   "metadata": {},
   "outputs": [
    {
     "data": {
      "text/plain": [
       "'__li__'"
      ]
     },
     "execution_count": 2,
     "metadata": {},
     "output_type": "execute_result"
    }
   ],
   "source": [
    "'__li__'.strip()"
   ]
  },
  {
   "cell_type": "code",
   "execution_count": 10,
   "metadata": {},
   "outputs": [
    {
     "data": {
      "text/plain": [
       "0"
      ]
     },
     "execution_count": 10,
     "metadata": {},
     "output_type": "execute_result"
    }
   ],
   "source": [
    "d = {'a':1, 'b':2}\n",
    "da = dict()\n",
    "da.get('s', 0)"
   ]
  },
  {
   "cell_type": "code",
   "execution_count": 18,
   "metadata": {},
   "outputs": [
    {
     "data": {
      "text/plain": [
       "0"
      ]
     },
     "execution_count": 18,
     "metadata": {},
     "output_type": "execute_result"
    }
   ],
   "source": [
    "dd = dict()\n",
    "len(dd)"
   ]
  },
  {
   "cell_type": "code",
   "execution_count": 13,
   "metadata": {},
   "outputs": [],
   "source": [
    "def increment(v1, v2, scale):\n",
    "    \"\"\"Update v1 to v1 + scale * v2.\n",
    "    Note that v1 is updated in place.\n",
    "    Parameters:\n",
    "        v1 : dict\n",
    "            feature (str) to value (float)\n",
    "        v2 : same type as v1\n",
    "        scale : float\n",
    "    Returns:\n",
    "        None\n",
    "    \"\"\"\n",
    "    for f, v in v2.items():\n",
    "        v1[f] = v1.get(f, 0) + scale * v"
   ]
  },
  {
   "cell_type": "code",
   "execution_count": 19,
   "metadata": {},
   "outputs": [],
   "source": [
    "increment(dd, d, 1)"
   ]
  },
  {
   "cell_type": "code",
   "execution_count": 20,
   "metadata": {},
   "outputs": [
    {
     "data": {
      "text/plain": [
       "{'a': 1, 'b': 2}"
      ]
     },
     "execution_count": 20,
     "metadata": {},
     "output_type": "execute_result"
    }
   ],
   "source": [
    "dd"
   ]
  },
  {
   "cell_type": "code",
   "execution_count": 21,
   "metadata": {},
   "outputs": [
    {
     "data": {
      "text/html": [
       "<div>\n",
       "<style scoped>\n",
       "    .dataframe tbody tr th:only-of-type {\n",
       "        vertical-align: middle;\n",
       "    }\n",
       "\n",
       "    .dataframe tbody tr th {\n",
       "        vertical-align: top;\n",
       "    }\n",
       "\n",
       "    .dataframe thead th {\n",
       "        text-align: right;\n",
       "    }\n",
       "</style>\n",
       "<table border=\"1\" class=\"dataframe\">\n",
       "  <thead>\n",
       "    <tr style=\"text-align: right;\">\n",
       "      <th></th>\n",
       "      <th>gold_label</th>\n",
       "      <th>sentence1</th>\n",
       "      <th>sentence2</th>\n",
       "    </tr>\n",
       "  </thead>\n",
       "  <tbody>\n",
       "    <tr>\n",
       "      <th>0</th>\n",
       "      <td>0</td>\n",
       "      <td>[A, man, with, a, jacket, and, red, shirt, sit...</td>\n",
       "      <td>[The, man, is, eating, a, sandwich, .]</td>\n",
       "    </tr>\n",
       "    <tr>\n",
       "      <th>1</th>\n",
       "      <td>1</td>\n",
       "      <td>[A, child, in, a, purple, shirt, stares, over,...</td>\n",
       "      <td>[A, child, is, holding, a, railing, .]</td>\n",
       "    </tr>\n",
       "    <tr>\n",
       "      <th>2</th>\n",
       "      <td>1</td>\n",
       "      <td>[A, man, is, looking, out, through, wooden, ba...</td>\n",
       "      <td>[A, guy, is, staring, between, an, object, .]</td>\n",
       "    </tr>\n",
       "    <tr>\n",
       "      <th>3</th>\n",
       "      <td>1</td>\n",
       "      <td>[A, man, in, a, black, NFL, jersey, holds, a, ...</td>\n",
       "      <td>[A, man, holds, several, PS3, games, .]</td>\n",
       "    </tr>\n",
       "    <tr>\n",
       "      <th>4</th>\n",
       "      <td>1</td>\n",
       "      <td>[A, Blond, woman, in, a, pink, turtleneck, jum...</td>\n",
       "      <td>[A, woman, is, bungee, jumping, .]</td>\n",
       "    </tr>\n",
       "  </tbody>\n",
       "</table>\n",
       "</div>"
      ],
      "text/plain": [
       "   gold_label                                          sentence1  \\\n",
       "0           0  [A, man, with, a, jacket, and, red, shirt, sit...   \n",
       "1           1  [A, child, in, a, purple, shirt, stares, over,...   \n",
       "2           1  [A, man, is, looking, out, through, wooden, ba...   \n",
       "3           1  [A, man, in, a, black, NFL, jersey, holds, a, ...   \n",
       "4           1  [A, Blond, woman, in, a, pink, turtleneck, jum...   \n",
       "\n",
       "                                       sentence2  \n",
       "0         [The, man, is, eating, a, sandwich, .]  \n",
       "1         [A, child, is, holding, a, railing, .]  \n",
       "2  [A, guy, is, staring, between, an, object, .]  \n",
       "3        [A, man, holds, several, PS3, games, .]  \n",
       "4             [A, woman, is, bungee, jumping, .]  "
      ]
     },
     "execution_count": 21,
     "metadata": {},
     "output_type": "execute_result"
    }
   ],
   "source": [
    "import pandas as pd\n",
    "f = pd.read_json('data/train.json')\n",
    "f.head()"
   ]
  },
  {
   "cell_type": "code",
   "execution_count": 28,
   "metadata": {},
   "outputs": [
    {
     "data": {
      "text/plain": [
       "['A',\n",
       " 'man',\n",
       " 'with',\n",
       " 'a',\n",
       " 'jacket',\n",
       " 'and',\n",
       " 'red',\n",
       " 'shirt',\n",
       " 'sits',\n",
       " 'at',\n",
       " 'a',\n",
       " 'park',\n",
       " 'bench',\n",
       " 'as',\n",
       " 'a',\n",
       " 'dog',\n",
       " 'with',\n",
       " 'a',\n",
       " 'plaid',\n",
       " 'jacket',\n",
       " 'stands',\n",
       " 'near',\n",
       " '.']"
      ]
     },
     "execution_count": 28,
     "metadata": {},
     "output_type": "execute_result"
    }
   ],
   "source": [
    "f.iloc[0,1]"
   ]
  },
  {
   "cell_type": "code",
   "execution_count": 27,
   "metadata": {},
   "outputs": [
    {
     "data": {
      "text/plain": [
       "['The', 'man', 'is', 'eating', 'a', 'sandwich', '.']"
      ]
     },
     "execution_count": 27,
     "metadata": {},
     "output_type": "execute_result"
    }
   ],
   "source": [
    "f.iloc[0,2]"
   ]
  },
  {
   "cell_type": "code",
   "execution_count": null,
   "metadata": {},
   "outputs": [],
   "source": []
  }
 ],
 "metadata": {
  "kernelspec": {
   "display_name": "base",
   "language": "python",
   "name": "python3"
  },
  "language_info": {
   "codemirror_mode": {
    "name": "ipython",
    "version": 3
   },
   "file_extension": ".py",
   "mimetype": "text/x-python",
   "name": "python",
   "nbconvert_exporter": "python",
   "pygments_lexer": "ipython3",
   "version": "3.7.16"
  },
  "orig_nbformat": 4
 },
 "nbformat": 4,
 "nbformat_minor": 2
}
